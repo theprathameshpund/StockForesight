{
 "cells": [
  {
   "cell_type": "code",
   "execution_count": 1,
   "id": "3be0a0de-f2cd-4d0c-b218-e49ce435b395",
   "metadata": {},
   "outputs": [],
   "source": [
    "# Hybrid Stock Price Predictor: LSTM + Fundamental Analysis (Optimized Final Version)\n",
    "\n",
    "import numpy as np\n",
    "import pandas as pd\n",
    "import matplotlib.pyplot as plt\n",
    "import seaborn as sns\n",
    "import yfinance as yf\n",
    "import requests\n",
    "from keras.models import Sequential\n",
    "from keras.layers import Dense, Dropout, LSTM\n",
    "from sklearn.preprocessing import MinMaxScaler\n",
    "from sklearn.metrics import mean_squared_error, mean_absolute_error, r2_score\n",
    "from tabulate import tabulate\n"
   ]
  },
  {
   "cell_type": "code",
   "execution_count": 5,
   "id": "104c55e8-3261-440a-94f9-a4fe614be4eb",
   "metadata": {},
   "outputs": [
    {
     "name": "stderr",
     "output_type": "stream",
     "text": [
      "[*********************100%***********************]  1 of 1 completed\n",
      "\n",
      "1 Failed download:\n",
      "['GOOG']: YFRateLimitError('Too Many Requests. Rate limited. Try after a while.')\n"
     ]
    }
   ],
   "source": [
    "# 1. Load Stock Data\n",
    "start = '2012-01-01'\n",
    "end = '2024-10-14'\n",
    "stock = 'GOOG'\n",
    "data = yf.download(stock, start, end)[['Close']]"
   ]
  },
  {
   "cell_type": "code",
   "execution_count": 3,
   "id": "6ffd6bd6-9be1-49ba-876a-d813e9ea9f44",
   "metadata": {},
   "outputs": [],
   "source": [
    "# 2. Data Cleaning\n",
    "data.drop_duplicates(inplace=True)\n",
    "data.dropna(inplace=True)\n",
    "data.reset_index(drop=True, inplace=True)\n",
    "\n",
    "# Remove outliers using IQR\n",
    "q1 = data['Close'].quantile(0.25)\n",
    "q3 = data['Close'].quantile(0.75)\n",
    "iqr = q3 - q1\n",
    "lower_bound = q1 - 1.5 * iqr\n",
    "upper_bound = q3 + 1.5 * iqr\n",
    "data = data[(data['Close'] >= lower_bound) & (data['Close'] <= upper_bound)]\n",
    "data.reset_index(drop=True, inplace=True)"
   ]
  },
  {
   "cell_type": "code",
   "execution_count": 4,
   "id": "9bb5ee3a-ab15-4e64-a9de-a83a5b70a025",
   "metadata": {},
   "outputs": [
    {
     "ename": "IndexError",
     "evalue": "iloc cannot enlarge its target object",
     "output_type": "error",
     "traceback": [
      "\u001b[1;31m---------------------------------------------------------------------------\u001b[0m",
      "\u001b[1;31mIndexError\u001b[0m                                Traceback (most recent call last)",
      "Cell \u001b[1;32mIn[4], line 27\u001b[0m\n\u001b[0;32m     24\u001b[0m avg_loss \u001b[38;5;241m=\u001b[39m pd\u001b[38;5;241m.\u001b[39mSeries(index\u001b[38;5;241m=\u001b[39mdata\u001b[38;5;241m.\u001b[39mindex, dtype\u001b[38;5;241m=\u001b[39m\u001b[38;5;124m'\u001b[39m\u001b[38;5;124mfloat64\u001b[39m\u001b[38;5;124m'\u001b[39m)\n\u001b[0;32m     26\u001b[0m \u001b[38;5;66;03m# First values (simple mean)\u001b[39;00m\n\u001b[1;32m---> 27\u001b[0m \u001b[43mavg_gain\u001b[49m\u001b[38;5;241;43m.\u001b[39;49m\u001b[43miloc\u001b[49m\u001b[43m[\u001b[49m\u001b[38;5;241;43m14\u001b[39;49m\u001b[43m]\u001b[49m \u001b[38;5;241m=\u001b[39m gain\u001b[38;5;241m.\u001b[39miloc[\u001b[38;5;241m1\u001b[39m:\u001b[38;5;241m15\u001b[39m]\u001b[38;5;241m.\u001b[39mmean()\n\u001b[0;32m     28\u001b[0m avg_loss\u001b[38;5;241m.\u001b[39miloc[\u001b[38;5;241m14\u001b[39m] \u001b[38;5;241m=\u001b[39m loss\u001b[38;5;241m.\u001b[39miloc[\u001b[38;5;241m1\u001b[39m:\u001b[38;5;241m15\u001b[39m]\u001b[38;5;241m.\u001b[39mmean()\n\u001b[0;32m     30\u001b[0m \u001b[38;5;66;03m# Wilder's smoothing\u001b[39;00m\n",
      "File \u001b[1;32m~\\AppData\\Local\\Programs\\Python\\Python312\\Lib\\site-packages\\pandas\\core\\indexing.py:908\u001b[0m, in \u001b[0;36m_LocationIndexer.__setitem__\u001b[1;34m(self, key, value)\u001b[0m\n\u001b[0;32m    906\u001b[0m     key \u001b[38;5;241m=\u001b[39m \u001b[38;5;28mself\u001b[39m\u001b[38;5;241m.\u001b[39m_check_deprecated_callable_usage(key, maybe_callable)\n\u001b[0;32m    907\u001b[0m indexer \u001b[38;5;241m=\u001b[39m \u001b[38;5;28mself\u001b[39m\u001b[38;5;241m.\u001b[39m_get_setitem_indexer(key)\n\u001b[1;32m--> 908\u001b[0m \u001b[38;5;28;43mself\u001b[39;49m\u001b[38;5;241;43m.\u001b[39;49m\u001b[43m_has_valid_setitem_indexer\u001b[49m\u001b[43m(\u001b[49m\u001b[43mkey\u001b[49m\u001b[43m)\u001b[49m\n\u001b[0;32m    910\u001b[0m iloc \u001b[38;5;241m=\u001b[39m \u001b[38;5;28mself\u001b[39m \u001b[38;5;28;01mif\u001b[39;00m \u001b[38;5;28mself\u001b[39m\u001b[38;5;241m.\u001b[39mname \u001b[38;5;241m==\u001b[39m \u001b[38;5;124m\"\u001b[39m\u001b[38;5;124miloc\u001b[39m\u001b[38;5;124m\"\u001b[39m \u001b[38;5;28;01melse\u001b[39;00m \u001b[38;5;28mself\u001b[39m\u001b[38;5;241m.\u001b[39mobj\u001b[38;5;241m.\u001b[39miloc\n\u001b[0;32m    911\u001b[0m iloc\u001b[38;5;241m.\u001b[39m_setitem_with_indexer(indexer, value, \u001b[38;5;28mself\u001b[39m\u001b[38;5;241m.\u001b[39mname)\n",
      "File \u001b[1;32m~\\AppData\\Local\\Programs\\Python\\Python312\\Lib\\site-packages\\pandas\\core\\indexing.py:1646\u001b[0m, in \u001b[0;36m_iLocIndexer._has_valid_setitem_indexer\u001b[1;34m(self, indexer)\u001b[0m\n\u001b[0;32m   1644\u001b[0m \u001b[38;5;28;01melif\u001b[39;00m is_integer(i):\n\u001b[0;32m   1645\u001b[0m     \u001b[38;5;28;01mif\u001b[39;00m i \u001b[38;5;241m>\u001b[39m\u001b[38;5;241m=\u001b[39m \u001b[38;5;28mlen\u001b[39m(ax):\n\u001b[1;32m-> 1646\u001b[0m         \u001b[38;5;28;01mraise\u001b[39;00m \u001b[38;5;167;01mIndexError\u001b[39;00m(\u001b[38;5;124m\"\u001b[39m\u001b[38;5;124miloc cannot enlarge its target object\u001b[39m\u001b[38;5;124m\"\u001b[39m)\n\u001b[0;32m   1647\u001b[0m \u001b[38;5;28;01melif\u001b[39;00m \u001b[38;5;28misinstance\u001b[39m(i, \u001b[38;5;28mdict\u001b[39m):\n\u001b[0;32m   1648\u001b[0m     \u001b[38;5;28;01mraise\u001b[39;00m \u001b[38;5;167;01mIndexError\u001b[39;00m(\u001b[38;5;124m\"\u001b[39m\u001b[38;5;124miloc cannot enlarge its target object\u001b[39m\u001b[38;5;124m\"\u001b[39m)\n",
      "\u001b[1;31mIndexError\u001b[0m: iloc cannot enlarge its target object"
     ]
    }
   ],
   "source": [
    "# 3. Add Technical Indicators (Corrected and Accurate)\n",
    "\n",
    "# Rolling statistics\n",
    "data['Rolling_Mean'] = data['Close'].rolling(window=30).mean()\n",
    "data['Rolling_STD'] = data['Close'].rolling(window=30).std()\n",
    "data['Log_Returns'] = np.log(data['Close'] / data['Close'].shift(1))\n",
    "\n",
    "# Exponential Moving Averages\n",
    "data['EMA_12'] = data['Close'].ewm(span=12, adjust=False).mean()\n",
    "data['EMA_26'] = data['Close'].ewm(span=26, adjust=False).mean()\n",
    "\n",
    "# MACD, Signal Line, and Histogram\n",
    "data['MACD'] = data['EMA_12'] - data['EMA_26']\n",
    "data['MACD_Signal'] = data['MACD'].ewm(span=9, adjust=False).mean()\n",
    "data['MACD_Hist'] = data['MACD'] - data['MACD_Signal']\n",
    "\n",
    "# Improved RSI using Wilder's Smoothing\n",
    "delta = data['Close'].diff()\n",
    "gain = delta.where(delta > 0, 0.0)\n",
    "loss = -delta.where(delta < 0, 0.0)\n",
    "\n",
    "# Initialize Series\n",
    "avg_gain = pd.Series(index=data.index, dtype='float64')\n",
    "avg_loss = pd.Series(index=data.index, dtype='float64')\n",
    "\n",
    "# First values (simple mean)\n",
    "avg_gain.iloc[14] = gain.iloc[1:15].mean()\n",
    "avg_loss.iloc[14] = loss.iloc[1:15].mean()\n",
    "\n",
    "# Wilder's smoothing\n",
    "for i in range(15, len(data)):\n",
    "    avg_gain.iloc[i] = (avg_gain.iloc[i-1] * 13 + gain.iloc[i]) / 14\n",
    "    avg_loss.iloc[i] = (avg_loss.iloc[i-1] * 13 + loss.iloc[i]) / 14\n",
    "\n",
    "# RSI Calculation\n",
    "rs = avg_gain / avg_loss\n",
    "rsi = 100 - (100 / (1 + rs))\n",
    "data['RSI'] = rsi\n",
    "\n",
    "# Drop initial NA values\n",
    "data.dropna(inplace=True)\n",
    "data.reset_index(drop=True, inplace=True)"
   ]
  },
  {
   "cell_type": "code",
   "execution_count": null,
   "id": "bba31bdb-071c-4c73-8b15-eac8dc692ab6",
   "metadata": {},
   "outputs": [],
   "source": [
    "# 4. Visualize Correlation\n",
    "plt.figure(figsize=(6, 4))\n",
    "sns.heatmap(data[['Close', 'Rolling_Mean', 'Rolling_STD', 'MACD', 'RSI']].corr(), annot=True, cmap='coolwarm')\n",
    "plt.title('Feature Correlation Heatmap')\n",
    "plt.show()"
   ]
  },
  {
   "cell_type": "code",
   "execution_count": null,
   "id": "33fec3d6-5858-448b-880d-ba8339ffc482",
   "metadata": {},
   "outputs": [],
   "source": [
    "# 5. Train-Test Split\n",
    "train_size = int(len(data) * 0.8)\n",
    "data_train = data[:train_size][['Close']]\n",
    "data_test = data[train_size:][['Close']]"
   ]
  },
  {
   "cell_type": "code",
   "execution_count": null,
   "id": "5e12ebea-634b-4ba8-93ba-70f378c33a22",
   "metadata": {},
   "outputs": [],
   "source": [
    "# 6. Scaling\n",
    "scaler = MinMaxScaler()\n",
    "data_train_scaled = scaler.fit_transform(data_train)"
   ]
  },
  {
   "cell_type": "code",
   "execution_count": null,
   "id": "bffef9e4-65d1-4971-9609-54fc013eae1b",
   "metadata": {},
   "outputs": [],
   "source": [
    "# 7. Prepare Training Data\n",
    "x_train, y_train = [], []\n",
    "for i in range(100, data_train_scaled.shape[0]):\n",
    "    x_train.append(data_train_scaled[i-100:i])\n",
    "    y_train.append(data_train_scaled[i, 0])\n",
    "x_train, y_train = np.array(x_train), np.array(y_train)"
   ]
  },
  {
   "cell_type": "code",
   "execution_count": null,
   "id": "67f9d570-1e16-4d94-83bf-13b8c406affd",
   "metadata": {},
   "outputs": [],
   "source": [
    "# 8. Train LSTM Model\n",
    "model = Sequential()\n",
    "model.add(LSTM(50, activation='relu', return_sequences=True, input_shape=(x_train.shape[1], 1)))\n",
    "model.add(Dropout(0.2))\n",
    "model.add(LSTM(60, activation='relu', return_sequences=True))\n",
    "model.add(Dropout(0.3))\n",
    "model.add(LSTM(80, activation='relu', return_sequences=True))\n",
    "model.add(Dropout(0.4))\n",
    "model.add(LSTM(120, activation='relu'))\n",
    "model.add(Dropout(0.5))\n",
    "model.add(Dense(units=1))\n",
    "model.compile(optimizer='adam', loss='mean_squared_error')\n",
    "model.fit(x_train, y_train, epochs=50, batch_size=64, verbose=1)\n"
   ]
  },
  {
   "cell_type": "code",
   "execution_count": null,
   "id": "31c7885c-64be-491e-af29-9aef93d7e711",
   "metadata": {},
   "outputs": [],
   "source": [
    "# 9. Prepare Test Data\n",
    "last_100 = data_train.tail(100)\n",
    "data_test_full = pd.concat([last_100, data_test], ignore_index=True)\n",
    "data_test_scaled = scaler.transform(data_test_full)\n",
    "\n",
    "x_test, y_test = [], []\n",
    "for i in range(100, data_test_scaled.shape[0]):\n",
    "    x_test.append(data_test_scaled[i-100:i])\n",
    "    y_test.append(data_test_scaled[i, 0])\n",
    "x_test, y_test = np.array(x_test), np.array(y_test)\n"
   ]
  },
  {
   "cell_type": "code",
   "execution_count": null,
   "id": "9478d3c3-09bb-4498-90ec-797cabab6932",
   "metadata": {},
   "outputs": [],
   "source": [
    "# 10. Predict\n",
    "y_pred_scaled = model.predict(x_test)\n",
    "y_pred = scaler.inverse_transform(y_pred_scaled)\n",
    "y_actual = scaler.inverse_transform(y_test.reshape(-1, 1))\n"
   ]
  },
  {
   "cell_type": "code",
   "execution_count": null,
   "id": "8913ac42-ceb1-4a5e-bb67-3bf3c212725e",
   "metadata": {},
   "outputs": [],
   "source": [
    "# 11. Evaluate\n",
    "mse = mean_squared_error(y_actual, y_pred)\n",
    "mae = mean_absolute_error(y_actual, y_pred)\n",
    "r2 = r2_score(y_actual, y_pred)\n",
    "mape = np.mean(np.abs((y_actual - y_pred) / y_actual)) * 100\n",
    "tech_accuracy = 100 - mape\n",
    "\n",
    "print(f\"MSE: {mse:.4f}\\nMAE: {mae:.4f}\\nR2 Score: {r2:.4f}\\nMAPE: {mape:.2f}%\")\n",
    "print(f\"Technical Prediction Accuracy: {tech_accuracy:.2f}%\")\n"
   ]
  },
  {
   "cell_type": "code",
   "execution_count": null,
   "id": "26b7a4d1-f128-48ea-9a3b-42f954f3a919",
   "metadata": {},
   "outputs": [],
   "source": [
    "# 12. Plot Actual vs Predicted with RSI, MACD, and Moving Averages\n",
    "\n",
    "# Compute 100 and 200 day moving averages\n",
    "data['MA_100'] = data['Close'].rolling(window=100).mean()\n",
    "data['MA_200'] = data['Close'].rolling(window=200).mean()\n",
    "\n",
    "# Plot combined indicators\n",
    "plt.figure(figsize=(14, 6))\n",
    "plt.plot(y_actual, label='Actual Price', linewidth=2)\n",
    "plt.plot(y_pred, label='Predicted Price', linewidth=2)\n",
    "plt.plot(data.iloc[-len(y_pred):]['RSI'].values, label='RSI', linestyle='--', alpha=0.5)\n",
    "plt.plot(data.iloc[-len(y_pred):]['MACD'].values, label='MACD', linestyle='--', alpha=0.5)\n",
    "plt.plot(data.iloc[-len(y_pred):]['MA_100'].values, label='100-Day MA', linestyle='-.', color='orange')\n",
    "plt.plot(data.iloc[-len(y_pred):]['MA_200'].values, label='200-Day MA', linestyle='-.', color='purple')\n",
    "\n",
    "plt.title(f'{stock} Price Prediction with Indicators & MAs')\n",
    "plt.xlabel('Time')\n",
    "plt.ylabel('Price / Indicator')\n",
    "plt.legend()\n",
    "plt.grid(True)\n",
    "plt.tight_layout()\n",
    "plt.show()\n"
   ]
  },
  {
   "cell_type": "code",
   "execution_count": null,
   "id": "5b57bece-30a6-4b77-914f-383b141258ae",
   "metadata": {},
   "outputs": [],
   "source": [
    "# 13. Fundamental Analysis\n",
    "API_KEY = 'BISBYX9HTP79QMXV'\n",
    "def fetch_data(url):\n",
    "    try:\n",
    "        return requests.get(url).json()\n",
    "    except:\n",
    "        return None\n",
    "\n",
    "def get_fundamentals(symbol):\n",
    "    overview = fetch_data(f'https://www.alphavantage.co/query?function=OVERVIEW&symbol={symbol}&apikey={API_KEY}')\n",
    "    if not overview:\n",
    "        return [0, 0, 0, 0], [\"Unavailable\"] * 4\n",
    "    try:\n",
    "        pe = float(overview.get('PERatio', 0))\n",
    "        pb = float(overview.get('PriceToBookRatio', 0))\n",
    "        roe = float(overview.get('ReturnOnEquityTTM', 0))\n",
    "        mc = float(overview.get('MarketCapitalization', 0)) / 1e9\n",
    "        evals = [\n",
    "            \"Good\" if pe <= 30 else \"Bad\",\n",
    "            \"Good\" if pb <= 10 else \"Bad\",\n",
    "            \"Good\" if roe >= 0.15 else \"Bad\",\n",
    "            \"Good\" if mc >= 10 else \"Bad\"\n",
    "        ]\n",
    "        return [pe, pb, roe, mc], evals\n",
    "    except:\n",
    "        return [0, 0, 0, 0], [\"Unavailable\"] * 4\n",
    "\n",
    "fundamentals, fund_eval = get_fundamentals(stock)\n",
    "labels = ['PE Ratio', 'PB Ratio', 'ROE', 'Market Cap (B)']\n",
    "table = [[labels[i], fundamentals[i], fund_eval[i]] for i in range(4)]\n",
    "print(\"\\nFundamental Analysis Table:\")\n",
    "print(tabulate(table, headers=['Metric', 'Value', 'Evaluation'], tablefmt=\"grid\"))\n"
   ]
  },
  {
   "cell_type": "code",
   "execution_count": null,
   "id": "7d2d09fb-1f34-4b1b-be1d-64bab64f8723",
   "metadata": {},
   "outputs": [],
   "source": [
    "# 14. Recommendation\n",
    "fund_strong = fund_eval.count(\"Good\") >= 3\n",
    "tech_strong = r2 > 0.70 and tech_accuracy >= 80\n",
    "print(\"\\nFinal Recommendation:\")\n",
    "if fund_strong:\n",
    "    print(\"✅ Fundamentally strong\")\n",
    "else:\n",
    "    print(\"⚠️ Fundamental concerns\")\n",
    "if tech_strong:\n",
    "    print(\"✅ Technically strong\")\n",
    "else:\n",
    "    print(\"⚠️ Technical performance weak\")\n",
    "if fund_strong and tech_strong:\n",
    "    print(\"📈 Consider for investment\")\n",
    "elif fund_strong:\n",
    "    print(\"📉 Good fundamentals, weak tech\")\n",
    "elif tech_strong:\n",
    "    print(\"📉 Good techs, weak fundamentals\")\n",
    "else:\n",
    "    print(\"❌ Avoid or review further\")"
   ]
  },
  {
   "cell_type": "code",
   "execution_count": null,
   "id": "d8b62d02-a1f9-403e-86e8-001ba1ab3e2f",
   "metadata": {},
   "outputs": [],
   "source": [
    "# 15. Combined Accuracy\n",
    "fund_accuracy = sum([1 if e == \"Good\" else 0 for e in fund_eval]) / 4 * 100\n",
    "combined_accuracy = (tech_accuracy + fund_accuracy) / 2\n",
    "print(f\"\\nCombined Prediction Accuracy: {combined_accuracy:.2f}%\")\n"
   ]
  },
  {
   "cell_type": "code",
   "execution_count": null,
   "id": "64dea042-515b-40a2-ac09-81a1c2cdf567",
   "metadata": {},
   "outputs": [],
   "source": []
  }
 ],
 "metadata": {
  "kernelspec": {
   "display_name": "Python 3 (ipykernel)",
   "language": "python",
   "name": "python3"
  },
  "language_info": {
   "codemirror_mode": {
    "name": "ipython",
    "version": 3
   },
   "file_extension": ".py",
   "mimetype": "text/x-python",
   "name": "python",
   "nbconvert_exporter": "python",
   "pygments_lexer": "ipython3",
   "version": "3.12.1"
  }
 },
 "nbformat": 4,
 "nbformat_minor": 5
}
